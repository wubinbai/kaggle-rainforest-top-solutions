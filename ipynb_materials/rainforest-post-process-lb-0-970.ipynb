{
 "cells": [
  {
   "cell_type": "markdown",
   "metadata": {
    "papermill": {
     "duration": 0.004219,
     "end_time": "2021-02-18T10:38:14.932305",
     "exception": false,
     "start_time": "2021-02-18T10:38:14.928086",
     "status": "completed"
    },
    "tags": []
   },
   "source": [
    "# Rainforest Post Process - Private LB 0.974!\n",
    "In this notebook we demonstrate a post process for rainforest comp. We will use the output from the following notebook:\n",
    "https://www.kaggle.com/meaninglesslives/rfcx-minimal\n",
    "We will increase it's private LB score from 0.964 to 0.974!\n",
    "\n",
    "To learn more about this post process, read the discussion [here][1]\n",
    "\n",
    "[1]: https://www.kaggle.com/c/rfcx-species-audio-detection/discussion/220389"
   ]
  },
  {
   "cell_type": "markdown",
   "metadata": {
    "papermill": {
     "duration": 0.002768,
     "end_time": "2021-02-18T10:38:14.938871",
     "exception": false,
     "start_time": "2021-02-18T10:38:14.936103",
     "status": "completed"
    },
    "tags": []
   },
   "source": [
    "# Post Process Parameters\n",
    "To use the following post process, load your `submission.csv` file and first try `MODE=1`. Next try `MODE=2`. Next try `MODE=3`. If those three don't increase your LB, then try `MODE=1` with different `FUDGE` values. Try values 0.5, 1, and 3."
   ]
  },
  {
   "cell_type": "code",
   "execution_count": 1,
   "metadata": {
    "execution": {
     "iopub.execute_input": "2021-02-18T10:38:14.960251Z",
     "iopub.status.busy": "2021-02-18T10:38:14.959458Z",
     "iopub.status.idle": "2021-02-18T10:38:15.207007Z",
     "shell.execute_reply": "2021-02-18T10:38:15.206228Z"
    },
    "papermill": {
     "duration": 0.265319,
     "end_time": "2021-02-18T10:38:15.207244",
     "exception": false,
     "start_time": "2021-02-18T10:38:14.941925",
     "status": "completed"
    },
    "tags": []
   },
   "outputs": [],
   "source": [
    "# USE MODE 1, 2, or 3\n",
    "MODE = 1\n",
    "\n",
    "# LOAD SUBMISSION\n",
    "import pandas as pd, numpy as np\n",
    "FUDGE = 2.0\n",
    "FILE = '../input/rfcx-minimal/submission.csv'\n",
    "df = pd.read_csv(FILE)\n",
    "for k in range(24):\n",
    "    df.iloc[:,1+k] -= df.iloc[:,1+k].min()\n",
    "    df.iloc[:,1+k] /= df.iloc[:,1+k].max()\n",
    "\n",
    "# CONVERT PROBS TO ODDS, APPLY MULTIPLIER, CONVERT BACK TO PROBS\n",
    "def scale(probs, factor):\n",
    "    probs = probs.copy()\n",
    "    idx = np.where(probs!=1)[0]\n",
    "    odds = factor * probs[idx] / (1-probs[idx])\n",
    "    probs[idx] =  odds/(1+odds)\n",
    "    return probs\n",
    "\n",
    "# TRAIN AND TEST MEANS\n",
    "d1 = df.iloc[:,1:].mean().values\n",
    "d2 = np.array([113,204,44,923,53,41,3,213,44,23,26,149,255,14,123,222,46,6,474,4,17,18,23,72])/1000.\n",
    "\n",
    "for k in range(24):\n",
    "    if MODE==1: d = FUDGE\n",
    "    if MODE==2: d = d1[k]/(1-d1[k])\n",
    "    if MODE==3: s = d2[k] / d1[k]\n",
    "    else: s = (d2[k]/(1-d2[k]))/d\n",
    "    df.iloc[:,k+1] = scale(df.iloc[:,k+1].values,s)\n",
    "    \n",
    "df.to_csv('submission_with_pp.csv',index=False)"
   ]
  }
 ],
 "metadata": {
  "kernelspec": {
   "display_name": "Python 3",
   "language": "python",
   "name": "python3"
  },
  "language_info": {
   "codemirror_mode": {
    "name": "ipython",
    "version": 3
   },
   "file_extension": ".py",
   "mimetype": "text/x-python",
   "name": "python",
   "nbconvert_exporter": "python",
   "pygments_lexer": "ipython3",
   "version": "3.7.9"
  },
  "papermill": {
   "default_parameters": {},
   "duration": 7.32391,
   "end_time": "2021-02-18T10:38:16.024223",
   "environment_variables": {},
   "exception": null,
   "input_path": "__notebook__.ipynb",
   "output_path": "__notebook__.ipynb",
   "parameters": {},
   "start_time": "2021-02-18T10:38:08.700313",
   "version": "2.2.2"
  }
 },
 "nbformat": 4,
 "nbformat_minor": 4
}
